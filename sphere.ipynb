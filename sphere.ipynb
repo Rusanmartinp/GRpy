{
 "cells": [
  {
   "cell_type": "code",
   "execution_count": 1,
   "metadata": {
    "collapsed": false
   },
   "outputs": [],
   "source": [
    "from GRpy.Tensor import *\n",
    "from GRpy.Christoffel import *\n",
    "from GRpy.Riemann import *\n",
    "from sympy import *\n",
    "init_printing(use_unicode=True)"
   ]
  },
  {
   "cell_type": "markdown",
   "metadata": {},
   "source": [
    "# Sphere:"
   ]
  },
  {
   "cell_type": "markdown",
   "metadata": {},
   "source": [
    "Metric:\n",
    "$$\n",
    "g_{ij}(\\theta, \\phi)=\n",
    "\\begin{bmatrix}\n",
    "a^2 & 0\\\\\n",
    " 0 & a^2 \\sin^2(\\theta)\n",
    "\\end{bmatrix},\n",
    "$$\n",
    "with $a$ the radius of the sphere."
   ]
  },
  {
   "cell_type": "code",
   "execution_count": 2,
   "metadata": {
    "collapsed": false
   },
   "outputs": [],
   "source": [
    "a = Symbol('a')\n",
    "r = Symbol('r')\n",
    "theta = Symbol('theta')\n",
    "phi = Symbol('phi')"
   ]
  },
  {
   "cell_type": "code",
   "execution_count": 3,
   "metadata": {
    "collapsed": false
   },
   "outputs": [],
   "source": [
    "gij = Metric((theta, phi))\n",
    "gij[-0,-0] = a**2\n",
    "gij[-0,-1] = 0\n",
    "gij[-1,-0] = 0\n",
    "gij[-1,-1] = (a**2)*(sin(theta))**2\n",
    "\n",
    "#gij_det = gij.determinant\n",
    "gij_inv = gij.invert()#\n",
    "christoffel = Christoffel(gij)\n",
    "riemann = Riemann(christoffel)\n",
    "riemann_tensor = riemann.R_tensor#\n",
    "riemann_cov = riemann.Riemann_cov#\n",
    "riemann_cont = riemann.Riemann_cont#\n",
    "riemann_par = riemann.Riemann_par\n",
    "ricci = Ricci(riemann)\n",
    "scalar = Scalar(gij,ricci, riemann)\n",
    "scalar_ricci = scalar.Scr_Ricci#\n",
    "Kretschmann_scalar = scalar.Scr_Kretsch#\n",
    "Other_scalar = scalar.Scr_Other#\n",
    "einstein = Einstein(gij, ricci, scalar_ricci)"
   ]
  },
  {
   "cell_type": "code",
   "execution_count": 4,
   "metadata": {
    "collapsed": false
   },
   "outputs": [],
   "source": [
    "#gij.determinant"
   ]
  },
  {
   "cell_type": "code",
   "execution_count": 5,
   "metadata": {
    "collapsed": false
   },
   "outputs": [
    {
     "name": "stdout",
     "output_type": "stream",
     "text": [
      "======================================================================\n",
      "The non-zero components of g_{ab} are:\n",
      "(-1, -1) : a**2*sin(theta)**2\n",
      "(0, 0) : a**2\n",
      "======================================================================\n"
     ]
    }
   ],
   "source": [
    "gij.__str__()"
   ]
  },
  {
   "cell_type": "code",
   "execution_count": 6,
   "metadata": {
    "collapsed": false
   },
   "outputs": [
    {
     "name": "stdout",
     "output_type": "stream",
     "text": [
      "======================================================================\n",
      "The non-zero components of g_inv are:\n",
      "(0, 0) : a**(-2)\n",
      "(1, 1) : 1/(a**2*sin(theta)**2)\n",
      "======================================================================\n"
     ]
    }
   ],
   "source": [
    "gij.inverse.__str__()"
   ]
  },
  {
   "cell_type": "code",
   "execution_count": 7,
   "metadata": {
    "collapsed": false
   },
   "outputs": [
    {
     "name": "stdout",
     "output_type": "stream",
     "text": [
      "======================================================================\n",
      "The non-zero components of Gamma^{a}_{bc} are:\n",
      "(0, -1, -1) : -sin(theta)*cos(theta)\n",
      "(1, -1, 0) : cos(theta)/sin(theta)\n",
      "(1, 0, -1) : cos(theta)/sin(theta)\n",
      "======================================================================\n"
     ]
    }
   ],
   "source": [
    "christoffel.__str__()"
   ]
  },
  {
   "cell_type": "code",
   "execution_count": 8,
   "metadata": {
    "collapsed": false
   },
   "outputs": [
    {
     "name": "stdout",
     "output_type": "stream",
     "text": [
      "======================================================================\n",
      "The non-zero components of R^{a}_{bcd} are:\n",
      "(0, -1, -1, 0) : -sin(theta)**2\n",
      "(0, -1, 0, -1) : sin(theta)**2\n",
      "(1, 0, -1, 0) : 1\n",
      "(1, 0, 0, -1) : -1\n",
      "======================================================================\n"
     ]
    }
   ],
   "source": [
    "riemann_tensor.__str__()"
   ]
  },
  {
   "cell_type": "code",
   "execution_count": 9,
   "metadata": {
    "collapsed": false
   },
   "outputs": [
    {
     "name": "stdout",
     "output_type": "stream",
     "text": [
      "======================================================================\n",
      "The non-zero components of R_{abcd} are:\n",
      "(-1, 0, -1, 0) : a**2*sin(theta)**2\n",
      "(-1, 0, 0, -1) : -a**2*sin(theta)**2\n",
      "(0, -1, -1, 0) : -a**2*sin(theta)**2\n",
      "(0, -1, 0, -1) : a**2*sin(theta)**2\n",
      "======================================================================\n"
     ]
    }
   ],
   "source": [
    "riemann_cov.__str__()"
   ]
  },
  {
   "cell_type": "code",
   "execution_count": 10,
   "metadata": {
    "collapsed": false
   },
   "outputs": [
    {
     "name": "stdout",
     "output_type": "stream",
     "text": [
      "======================================================================\n",
      "The non-zero components of R^{abcd} are:\n",
      "(0, 1, 0, 1) : 1/(a**6*sin(theta)**2)\n",
      "(0, 1, 1, 0) : -1/(a**6*sin(theta)**2)\n",
      "(1, 0, 0, 1) : -1/(a**6*sin(theta)**2)\n",
      "(1, 0, 1, 0) : 1/(a**6*sin(theta)**2)\n",
      "======================================================================\n"
     ]
    }
   ],
   "source": [
    "riemann_cont.__str__()"
   ]
  },
  {
   "cell_type": "code",
   "execution_count": 11,
   "metadata": {
    "collapsed": false
   },
   "outputs": [
    {
     "name": "stdout",
     "output_type": "stream",
     "text": [
      "======================================================================\n",
      "The non-zero components of R^{ab}_{cd} are:\n",
      "(0, 1, -1, 0) : -1/a**2\n",
      "(0, 1, 0, -1) : a**(-2)\n",
      "(1, 0, -1, 0) : a**(-2)\n",
      "(1, 0, 0, -1) : -1/a**2\n",
      "======================================================================\n"
     ]
    }
   ],
   "source": [
    "riemann_par.__str__()"
   ]
  },
  {
   "cell_type": "code",
   "execution_count": 12,
   "metadata": {
    "collapsed": false
   },
   "outputs": [
    {
     "name": "stdout",
     "output_type": "stream",
     "text": [
      "======================================================================\n",
      "The non-zero components of R_{ab} are:\n",
      "(-1, -1) : sin(theta)**2\n",
      "(0, 0) : 1\n",
      "======================================================================\n"
     ]
    }
   ],
   "source": [
    "ricci.__str__()"
   ]
  },
  {
   "cell_type": "code",
   "execution_count": 13,
   "metadata": {
    "collapsed": false
   },
   "outputs": [
    {
     "name": "stdout",
     "output_type": "stream",
     "text": [
      "======================================================================\n",
      "The Ricci scalar is:\n",
      "2/a**2\n",
      "======================================================================\n",
      "The Kretschmann scalar is:\n",
      "4/a**4\n",
      "======================================================================\n",
      "The Other scalar is:\n",
      "16/a**6\n",
      "======================================================================\n"
     ]
    }
   ],
   "source": [
    "scalar.__str__()"
   ]
  },
  {
   "cell_type": "code",
   "execution_count": 14,
   "metadata": {
    "collapsed": false
   },
   "outputs": [
    {
     "name": "stdout",
     "output_type": "stream",
     "text": [
      "All the components of G_{ab} are 0!\n"
     ]
    }
   ],
   "source": [
    "einstein.__str__()"
   ]
  },
  {
   "cell_type": "markdown",
   "metadata": {},
   "source": [
    "# Verifying:"
   ]
  },
  {
   "cell_type": "markdown",
   "metadata": {},
   "source": [
    "Consider the following properties for spaces with constant curvature:"
   ]
  },
  {
   "cell_type": "markdown",
   "metadata": {},
   "source": [
    "$$ R_{ijkl}=\\alpha (g_{ik}g_{jl}-g_{jk}g_{il}),$$\n",
    "$$ g_{ij}= \\frac{R_{ij}}{\\alpha(d-1)},$$\n",
    "\n",
    "Then \n",
    "$$\\alpha = R/(d(d-1)).$$\n",
    "\n",
    "As $d=2$ and $R =2/a^2$, then $\\alpha =1/a^2$."
   ]
  },
  {
   "cell_type": "code",
   "execution_count": 15,
   "metadata": {
    "collapsed": false
   },
   "outputs": [],
   "source": [
    "alpha = 1/(a**2)"
   ]
  },
  {
   "cell_type": "code",
   "execution_count": 16,
   "metadata": {
    "collapsed": false,
    "scrolled": true
   },
   "outputs": [
    {
     "name": "stdout",
     "output_type": "stream",
     "text": [
      "(0,0,0,0) True\n",
      "(0,0,0,1) True\n",
      "(0,0,1,0) True\n",
      "(0,0,1,1) True\n",
      "(0,1,0,0) True\n",
      "(0,1,0,1) True\n",
      "(0,1,1,0) True\n",
      "(0,1,1,1) True\n",
      "(1,0,0,0) True\n",
      "(1,0,0,1) True\n",
      "(1,0,1,0) True\n",
      "(1,0,1,1) True\n",
      "(1,1,0,0) True\n",
      "(1,1,0,1) True\n",
      "(1,1,1,0) True\n",
      "(1,1,1,1) True\n"
     ]
    }
   ],
   "source": [
    "for i in range(2):\n",
    "    for j in range(2):\n",
    "        for m in range(2):\n",
    "            for l in range(2):\n",
    "                cosa = gij.components[-i,-m]*gij.components[-j,-l]-gij.components[-j,-m]*gij.components[-i,-l]\n",
    "                print '(%d,%d,%d,%d)'%(i,j,m,l), cancel(riemann.components[-i,-j,-m,-l])==simplify(alpha*cosa)"
   ]
  },
  {
   "cell_type": "code",
   "execution_count": 17,
   "metadata": {
    "collapsed": false
   },
   "outputs": [
    {
     "name": "stdout",
     "output_type": "stream",
     "text": [
      "(0,0) True\n",
      "(0,1) True\n",
      "(1,0) True\n",
      "(1,1) True\n"
     ]
    }
   ],
   "source": [
    "for i in range(2):\n",
    "    for j in range(2):\n",
    "        print '(%d,%d)'%(i,j), cancel(gij.components[-i,-j])==simplify(ricci.components[-i,-j]/(alpha))"
   ]
  },
  {
   "cell_type": "markdown",
   "metadata": {},
   "source": [
    "# Killing Equation"
   ]
  },
  {
   "cell_type": "code",
   "execution_count": 18,
   "metadata": {
    "collapsed": true
   },
   "outputs": [],
   "source": [
    "A0 = Function('A0')(theta,phi)\n",
    "A1 = Function('A1')(theta,phi)"
   ]
  },
  {
   "cell_type": "code",
   "execution_count": 19,
   "metadata": {
    "collapsed": true
   },
   "outputs": [],
   "source": [
    "A = XI((theta,phi))\n",
    "A[0] = A0\n",
    "A[1] = A1"
   ]
  },
  {
   "cell_type": "code",
   "execution_count": 20,
   "metadata": {
    "collapsed": false
   },
   "outputs": [],
   "source": [
    "Ke = Killing_Equation(A,gij)"
   ]
  },
  {
   "cell_type": "code",
   "execution_count": 21,
   "metadata": {
    "collapsed": false
   },
   "outputs": [
    {
     "name": "stdout",
     "output_type": "stream",
     "text": [
      "======================================================================\n",
      "The non-zero components of K_eq_{ab} are:\n",
      "(-1, -1) : a**2*A0(theta, phi)*sin(2*theta) - a**2*cos(2*theta)*Derivative(A1(theta, phi), phi) + a**2*Derivative(A1(theta, phi), phi)\n",
      "(-1, 0) : a**2*sin(theta)**2*Derivative(A1(theta, phi), theta) + a**2*Derivative(A0(theta, phi), phi)\n",
      "(0, -1) : a**2*sin(theta)**2*Derivative(A1(theta, phi), theta) + a**2*Derivative(A0(theta, phi), phi)\n",
      "(0, 0) : 2*a**2*Derivative(A0(theta, phi), theta)\n",
      "======================================================================\n"
     ]
    }
   ],
   "source": [
    "Ke.__str__()"
   ]
  },
  {
   "cell_type": "markdown",
   "metadata": {},
   "source": [
    "# Checking Killing equations:"
   ]
  },
  {
   "cell_type": "markdown",
   "metadata": {},
   "source": [
    "$$\\vec{\\xi}_{1}(\\theta,\\phi)=(\\sin(\\phi),\\cot(\\theta)\\cos(\\theta)),$$\n",
    "$$\\vec{\\xi}_{2}(\\theta,\\phi)=(\\cos(\\phi),-\\cot(\\theta)\\sin(\\theta)),$$\n",
    "$$\\vec{\\xi}_{3}(\\theta,\\phi)=(0,1).$$"
   ]
  },
  {
   "cell_type": "code",
   "execution_count": 22,
   "metadata": {
    "collapsed": true
   },
   "outputs": [],
   "source": [
    "xi1 = XI((theta,phi))\n",
    "xi2 = XI((theta,phi))\n",
    "xi3 = XI((theta,phi))\n",
    "xi1[0] = sin(phi)\n",
    "xi1[1] = cot(theta)*cos(phi)\n",
    "xi2[0] = cos(phi)\n",
    "xi2[1] = -cot(theta)*sin(phi)\n",
    "xi3[0] = 0\n",
    "xi3[1] = 1"
   ]
  },
  {
   "cell_type": "code",
   "execution_count": 23,
   "metadata": {
    "collapsed": false
   },
   "outputs": [],
   "source": [
    "Ke1 = Killing_Equation(xi1,gij)\n",
    "Ke2 = Killing_Equation(xi2,gij)\n",
    "Ke3 = Killing_Equation(xi3,gij)"
   ]
  },
  {
   "cell_type": "code",
   "execution_count": 24,
   "metadata": {
    "collapsed": false
   },
   "outputs": [
    {
     "name": "stdout",
     "output_type": "stream",
     "text": [
      "All the components of K_eq_{ab} are 0!\n",
      "All the components of K_eq_{ab} are 0!\n",
      "All the components of K_eq_{ab} are 0!\n"
     ]
    }
   ],
   "source": [
    "Ke1.__str__()\n",
    "Ke2.__str__()\n",
    "Ke3.__str__()"
   ]
  },
  {
   "cell_type": "markdown",
   "metadata": {},
   "source": [
    "# Covariant derivative:"
   ]
  },
  {
   "cell_type": "code",
   "execution_count": 25,
   "metadata": {
    "collapsed": true
   },
   "outputs": [],
   "source": [
    "A0 = Function('A0')(theta,phi)\n",
    "A1 = Function('A1')(theta,phi)"
   ]
  },
  {
   "cell_type": "code",
   "execution_count": 26,
   "metadata": {
    "collapsed": true
   },
   "outputs": [],
   "source": [
    "A = XI((theta,phi))"
   ]
  },
  {
   "cell_type": "code",
   "execution_count": 27,
   "metadata": {
    "collapsed": true
   },
   "outputs": [],
   "source": [
    "A[0]= A0\n",
    "A[1]= A1"
   ]
  },
  {
   "cell_type": "code",
   "execution_count": 28,
   "metadata": {
    "collapsed": false
   },
   "outputs": [],
   "source": [
    "Cov_der = Covariant_Derivative(A, christoffel)"
   ]
  },
  {
   "cell_type": "code",
   "execution_count": 29,
   "metadata": {
    "collapsed": false
   },
   "outputs": [
    {
     "name": "stdout",
     "output_type": "stream",
     "text": [
      "======================================================================\n",
      "The non-zero components of nabla_{a} are:\n",
      "(-1, 0) : -A1(theta, phi)*sin(2*theta)/2 + Derivative(A0(theta, phi), phi)\n",
      "(-1, 1) : (A0(theta, phi) + tan(theta)*Derivative(A1(theta, phi), phi))/tan(theta)\n",
      "(0, 0) : Derivative(A0(theta, phi), theta)\n",
      "(0, 1) : (A1(theta, phi) + tan(theta)*Derivative(A1(theta, phi), theta))/tan(theta)\n",
      "======================================================================\n"
     ]
    }
   ],
   "source": [
    "Cov_der.__str__()"
   ]
  },
  {
   "cell_type": "markdown",
   "metadata": {},
   "source": [
    "# Geodesic equation:"
   ]
  },
  {
   "cell_type": "code",
   "execution_count": 30,
   "metadata": {
    "collapsed": false
   },
   "outputs": [],
   "source": [
    "Geo_eq = Geodesic_Equation(christoffel)"
   ]
  },
  {
   "cell_type": "code",
   "execution_count": 31,
   "metadata": {
    "collapsed": false
   },
   "outputs": [
    {
     "name": "stdout",
     "output_type": "stream",
     "text": [
      "======================================================================\n",
      "The non-zero components of geo_eq^{a} are:\n",
      "0 : -sin(2*theta)*Derivative(phi(l), l)**2/2 + Derivative(theta(l), l, l)\n",
      "1 : (tan(theta)*Derivative(phi(l), l, l) + 2*Derivative(phi(l), l)*Derivative(theta(l), l))/tan(theta)\n",
      "======================================================================\n"
     ]
    }
   ],
   "source": [
    "Geo_eq.__str__()"
   ]
  },
  {
   "cell_type": "code",
   "execution_count": 32,
   "metadata": {
    "collapsed": false
   },
   "outputs": [
    {
     "data": {
      "image/png": "[encoded data removed]",
      "text/latex": [
       "$$- \\frac{1}{2} \\sin{\\left (2 \\theta \\right )} \\frac{d}{d l} \\phi{\\left (l \\right )}^{2} + \\frac{d^{2}}{d l^{2}}  \\theta{\\left (l \\right )}$$"
      ],
      "text/plain": [
       "                     2            \n",
       "           ⎛d       ⎞             \n",
       "  sin(2⋅θ)⋅⎜──(φ(l))⎟      2      \n",
       "           ⎝dl      ⎠     d       \n",
       "- ──────────────────── + ───(θ(l))\n",
       "           2               2      \n",
       "                         dl       "
      ]
     },
     "execution_count": 32,
     "metadata": {},
     "output_type": "execute_result"
    }
   ],
   "source": [
    "Geo_eq.components[0]"
   ]
  },
  {
   "cell_type": "code",
   "execution_count": 33,
   "metadata": {
    "collapsed": false
   },
   "outputs": [
    {
     "data": {
      "image/png": "[encoded data removed]",
      "text/latex": [
       "$$\\frac{d^{2}}{d l^{2}}  \\phi{\\left (l \\right )} + \\frac{2 \\frac{d}{d l} \\phi{\\left (l \\right )}}{\\tan{\\left (\\theta \\right )}} \\frac{d}{d l} \\theta{\\left (l \\right )}$$"
      ],
      "text/plain": [
       "              d        d       \n",
       "  2         2⋅──(φ(l))⋅──(θ(l))\n",
       " d            dl       dl      \n",
       "───(φ(l)) + ───────────────────\n",
       "  2                tan(θ)      \n",
       "dl                             "
      ]
     },
     "execution_count": 33,
     "metadata": {},
     "output_type": "execute_result"
    }
   ],
   "source": [
    "Geo_eq.components[1]"
   ]
  },
  {
   "cell_type": "code",
   "execution_count": 34,
   "metadata": {
    "collapsed": false
   },
   "outputs": [
    {
     "data": {
      "image/png": "[encoded data removed]",
      "text/latex": [
       "$$\\theta{\\left (l \\right )}$$"
      ],
      "text/plain": [
       "θ(l)"
      ]
     },
     "execution_count": 34,
     "metadata": {},
     "output_type": "execute_result"
    }
   ],
   "source": [
    "Geo_eq.x_up.components[0]"
   ]
  },
  {
   "cell_type": "code",
   "execution_count": 35,
   "metadata": {
    "collapsed": false
   },
   "outputs": [
    {
     "data": {
      "image/png": "[encoded data removed]",
      "text/latex": [
       "$$\\phi{\\left (l \\right )}$$"
      ],
      "text/plain": [
       "φ(l)"
      ]
     },
     "execution_count": 35,
     "metadata": {},
     "output_type": "execute_result"
    }
   ],
   "source": [
    "Geo_eq.x_up.components[1]"
   ]
  },
  {
   "cell_type": "code",
   "execution_count": 36,
   "metadata": {
    "collapsed": false
   },
   "outputs": [
    {
     "data": {
      "image/png": "[encoded data removed]",
      "text/latex": [
       "$$a^{2} \\theta{\\left (l \\right )}$$"
      ],
      "text/plain": [
       " 2     \n",
       "a ⋅θ(l)"
      ]
     },
     "execution_count": 36,
     "metadata": {},
     "output_type": "execute_result"
    }
   ],
   "source": [
    "Geo_eq.x_down.components[-0]"
   ]
  },
  {
   "cell_type": "code",
   "execution_count": 37,
   "metadata": {
    "collapsed": false
   },
   "outputs": [
    {
     "data": {
      "image/png": "[encoded data removed]",
      "text/latex": [
       "$$a^{2} \\phi{\\left (l \\right )} \\sin^{2}{\\left (\\theta{\\left (l \\right )} \\right )}$$"
      ],
      "text/plain": [
       " 2         2      \n",
       "a ⋅φ(l)⋅sin (θ(l))"
      ]
     },
     "execution_count": 37,
     "metadata": {},
     "output_type": "execute_result"
    }
   ],
   "source": [
    "Geo_eq.x_down.components[-1]"
   ]
  }
 ],
 "metadata": {
  "kernelspec": {
   "display_name": "Python 2",
   "language": "python",
   "name": "python2"
  },
  "language_info": {
   "codemirror_mode": {
    "name": "ipython",
    "version": 2
   },
   "file_extension": ".py",
   "mimetype": "text/x-python",
   "name": "python",
   "nbconvert_exporter": "python",
   "pygments_lexer": "ipython2",
   "version": "2.7.11"
  }
 },
 "nbformat": 4,
 "nbformat_minor": 0
}
